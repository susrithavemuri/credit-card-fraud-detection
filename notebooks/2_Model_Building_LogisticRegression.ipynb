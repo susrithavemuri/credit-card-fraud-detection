{
 "cells": [
  {
   "cell_type": "code",
   "execution_count": 2,
   "id": "88fa556d",
   "metadata": {
    "vscode": {
     "languageId": "plaintext"
    }
   },
   "outputs": [
    {
     "ename": "NameError",
     "evalue": "name 'LogisticRegression' is not defined",
     "output_type": "error",
     "traceback": [
      "\u001b[31m---------------------------------------------------------------------------\u001b[39m",
      "\u001b[31mNameError\u001b[39m                                 Traceback (most recent call last)",
      "\u001b[36mCell\u001b[39m\u001b[36m \u001b[39m\u001b[32mIn[2]\u001b[39m\u001b[32m, line 20\u001b[39m\n\u001b[32m     17\u001b[39m X_train, X_test, y_train, y_test = train_test_split(X, y, stratify=y, test_size=\u001b[32m0.2\u001b[39m, random_state=\u001b[32m42\u001b[39m)\n\u001b[32m     19\u001b[39m \u001b[38;5;66;03m# Train logistic regression\u001b[39;00m\n\u001b[32m---> \u001b[39m\u001b[32m20\u001b[39m model = \u001b[43mLogisticRegression\u001b[49m(class_weight=\u001b[33m'\u001b[39m\u001b[33mbalanced\u001b[39m\u001b[33m'\u001b[39m, solver=\u001b[33m'\u001b[39m\u001b[33mliblinear\u001b[39m\u001b[33m'\u001b[39m, max_iter=\u001b[32m1000\u001b[39m)\n\u001b[32m     23\u001b[39m \u001b[38;5;66;03m# Evaluate\u001b[39;00m\n\u001b[32m     24\u001b[39m evaluate_model(model, X_test, y_test)\n",
      "\u001b[31mNameError\u001b[39m: name 'LogisticRegression' is not defined"
     ]
    }
   ],
   "source": [
    "import sys\n",
    "import os\n",
    "import joblib\n",
    "sys.path.append(os.path.abspath(\"../src\"))\n",
    "\n",
    "import pandas as pd\n",
    "from sklearn.model_selection import train_test_split\n",
    "from model import train_logistic_regression\n",
    "from utils import evaluate_model\n",
    "\n",
    "# Load processed data\n",
    "df = pd.read_csv(\"../data/processed.csv\")\n",
    "X = df.drop(\"Class\", axis=1)\n",
    "y = df[\"Class\"]\n",
    "\n",
    "# Train/test split\n",
    "X_train, X_test, y_train, y_test = train_test_split(X, y, stratify=y, test_size=0.2, random_state=42)\n",
    "\n",
    "# Train logistic regression\n",
    "model = LogisticRegression(class_weight='balanced', solver='liblinear', max_iter=1000)\n",
    "\n",
    "\n",
    "# Evaluate\n",
    "evaluate_model(model, X_test, y_test)\n",
    "\n",
    "joblib.dump(model, \"../model_lr.pkl\")\n"
   ]
  },
  {
   "cell_type": "code",
   "execution_count": null,
   "id": "36c9867a-5d04-437d-b3de-fcdca96b821b",
   "metadata": {},
   "outputs": [],
   "source": []
  }
 ],
 "metadata": {
  "kernelspec": {
   "display_name": "Python 3 (ipykernel)",
   "language": "python",
   "name": "python3"
  },
  "language_info": {
   "codemirror_mode": {
    "name": "ipython",
    "version": 3
   },
   "file_extension": ".py",
   "mimetype": "text/x-python",
   "name": "python",
   "nbconvert_exporter": "python",
   "pygments_lexer": "ipython3",
   "version": "3.13.3"
  }
 },
 "nbformat": 4,
 "nbformat_minor": 5
}
